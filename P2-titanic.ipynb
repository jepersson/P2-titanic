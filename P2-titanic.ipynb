{
 "cells": [
  {
   "cell_type": "markdown",
   "metadata": {},
   "source": [
    "# Surviving Titanic\n",
    "\n",
    "## Introduction and initial question\n",
    "\n",
    "This time we will take a look at a data set containing passenger data from the Titanic and see if we can find any patterns in the data pointing if any gender, age group, or social class had higher odds of surviving the disastrous shipwreck.\n",
    "\n",
    "Was it possibly so the the upper class were favored and had a higher survival rate than other passengers? Perhaps age made a difference? And was it really ladies first even for the lifeboats on the sinking ship?\n",
    "\n",
    "Below we will take a look at and analyze the passenger data to see if we can find the answers to these questions.\n",
    "However, before we start let's import the libraries we need for our analysis."
   ]
  },
  {
   "cell_type": "code",
   "execution_count": null,
   "metadata": {},
   "outputs": [],
   "source": [
    "# Importing numpy and pandas for handy data handling. \n",
    "import numpy as np\n",
    "import pandas as pd\n",
    "\n",
    "# Matplotlib for plotting our data and seaborn's styling for eyecandy.\n",
    "import matplotlib.pyplot as plt\n",
    "import seaborn\n",
    "\n",
    "# We will use statsmodels logistic regression model last to analyze \n",
    "# the different probabilities of survival depending on age, gender, and class.  \n",
    "import statsmodels.api as sm\n",
    "\n",
    "# Inline plots.\n",
    "%matplotlib inline"
   ]
  },
  {
   "cell_type": "markdown",
   "metadata": {},
   "source": [
    "Now we are ready to tackle our choosen data set."
   ]
  },
  {
   "cell_type": "markdown",
   "metadata": {},
   "source": [
    "## The dataset\n",
    "\n",
    "The data set itself is taken from the following [Kaggle competition](https://www.kaggle.com/c/titanic/data) which works as an introduction to machine learning. Today we will use the same data but focus more on our analysis of the data than making predictions.\n",
    "\n",
    "We start by reading in the data using the pandas CSV reader. "
   ]
  },
  {
   "cell_type": "code",
   "execution_count": null,
   "metadata": {},
   "outputs": [],
   "source": [
    "passengers = pd.read_csv('titanic-data.csv')\n",
    "passengers.head(3)"
   ]
  },
  {
   "cell_type": "markdown",
   "metadata": {},
   "source": [
    "It seems like the data has been read with almost no problem at all, but there are some columns in the given set that needs further explanation. The following explanations are given on the Kaggle competition page.\n",
    "\n",
    "|Variable|Definition|Key|\n",
    "|--------|----------|---|\n",
    "|survival|Survival|0 = No, 1 = Yes|\n",
    "|pclass|Ticket class|1 = 1st, 2 = 2nd, 3 = 3rd|\n",
    "|sex|Sex||\n",
    "|Age|Age in years||\t\n",
    "|sibsp|# of siblings / spouses aboard the Titanic||\n",
    "|parch|# of parents / children aboard the Titanic||\n",
    "|ticket|Ticket number||\n",
    "|fare|Passenger fare||\n",
    "|cabin|Cabin number||\n",
    "|embarked|Port of Embarkation|C = Cherbourg, Q = Queenstown, S = Southampton|\n",
    "\n",
    "We can see that there are some 'NaN' values present in the cabin column so just to be sure we will take an extra look at our data with the `.info()` method."
   ]
  },
  {
   "cell_type": "code",
   "execution_count": null,
   "metadata": {},
   "outputs": [],
   "source": [
    "# Check info about the data we read with .read_csv()\n",
    "passengers.info()"
   ]
  },
  {
   "cell_type": "markdown",
   "metadata": {},
   "source": [
    "We can see that in addition to the Cabin, Age, and Embarked columns are also missing values.\n",
    "We either need to estimate the missing values or drop them. We could estimate missing ages with either median or average values, but for our analysis the non-null 714 values is enough. We choose to just drop the rows with null values.\n",
    "\n",
    "Cabin has to many missing values and according to wikipedia also a possible bias towards first class passengers. However, something that would be interesting to look up is for example if cabin proximity to the few lifeboats that were available influenced the possibility for survival. This is out of scope for this time so instead we choose to just drop the column instead.\n",
    "\n",
    "Also, upon further inspection it seems like SibSp/Parch and ticket numbers don't have any much connection making it hard to make sense of which passenger are related to which. There might be some interesting analysis in answering the question if being in a group increased or actually decreased the potential for survival. But, once again this might be a bit to much work for this time so we choose to drop these three columns instead.\n",
    "\n",
    "The same reasoning goes for the Name, PassengerId, and Fare columns which we also choose to drop."
   ]
  },
  {
   "cell_type": "code",
   "execution_count": null,
   "metadata": {},
   "outputs": [],
   "source": [
    "# Dropping rows with NaN values\n",
    "passengers.dropna(subset=['Age'], inplace=True)\n",
    "\n",
    "# Dropping unneeded columns\n",
    "passengers.drop('Cabin', axis=1, inplace=True)\n",
    "passengers.drop('Embarked', axis=1, inplace=True)\n",
    "\n",
    "passengers.drop('SibSp', axis=1, inplace=True)\n",
    "passengers.drop('Parch', axis=1, inplace=True)\n",
    "passengers.drop('Ticket', axis=1, inplace=True)\n",
    "\n",
    "passengers.drop('Name', axis=1, inplace=True)\n",
    "passengers.drop('PassengerId', axis=1, inplace=True)\n",
    "passengers.drop('Fare', axis=1, inplace=True)"
   ]
  },
  {
   "cell_type": "markdown",
   "metadata": {},
   "source": [
    "Lastly, to make column names more coherent we rename the Pclass column to just Class and to better describe to contents of each column we convert the Sex, Class, and Survived column's data types from Strings to Categories, and Integers to booleans respectively. "
   ]
  },
  {
   "cell_type": "code",
   "execution_count": null,
   "metadata": {},
   "outputs": [],
   "source": [
    "passengers = passengers.rename(columns={'Pclass': 'Class'})\n",
    "\n",
    "passengers['Sex'] = passengers.Sex.astype('category')\n",
    "passengers['Class'] = passengers.Class.astype('category')\n",
    "\n",
    "passengers['Survived'] = passengers.Survived.apply(bool)"
   ]
  },
  {
   "cell_type": "markdown",
   "metadata": {},
   "source": [
    "This gives us the below data frame to work with."
   ]
  },
  {
   "cell_type": "code",
   "execution_count": null,
   "metadata": {},
   "outputs": [],
   "source": [
    "passengers.info()"
   ]
  },
  {
   "cell_type": "markdown",
   "metadata": {},
   "source": [
    "### My own analysis of the variables types\n",
    "\n",
    "***NEED TO WRITE***"
   ]
  },
  {
   "cell_type": "markdown",
   "metadata": {},
   "source": [
    "### Descriptive stats"
   ]
  },
  {
   "cell_type": "code",
   "execution_count": null,
   "metadata": {},
   "outputs": [],
   "source": [
    "passengers['Age'].describe()"
   ]
  },
  {
   "cell_type": "code",
   "execution_count": null,
   "metadata": {},
   "outputs": [],
   "source": [
    "passengers['Sex'].describe()"
   ]
  },
  {
   "cell_type": "code",
   "execution_count": null,
   "metadata": {},
   "outputs": [],
   "source": [
    "passengers['Class'].describe()"
   ]
  },
  {
   "cell_type": "code",
   "execution_count": null,
   "metadata": {},
   "outputs": [],
   "source": [
    "passengers['Survived'].describe()"
   ]
  },
  {
   "cell_type": "markdown",
   "metadata": {},
   "source": [
    "Based on the above, we can see here that according to our sample the typical passenger was a male around 30 travelling in 3 class and, unfortunately, a casualty from the shipwreck. Worth noting is that after we cleaned up the data we have no missing values in any of our remaining columns.\n",
    "\n",
    "Lets try to plot some different relationships between class, sex, and age for the survivors and non-survivors in our data set to see if we can find something interesting. We start out with plotting comparisons for the composition of passenger class and sex between survivors and casualties. "
   ]
  },
  {
   "cell_type": "code",
   "execution_count": null,
   "metadata": {},
   "outputs": [],
   "source": [
    "# Create a grid with two columns for display\n",
    "fig, axs = plt.subplots(ncols=2, figsize=(8, 4))\n",
    "\n",
    "# Group passengers by Survived and Class then plot the results in a bar graph\n",
    "survived_by_class = passengers.groupby(['Survived','Class']).size().unstack()\n",
    "survived_by_class.plot(kind='bar', stacked=True, ax=axs[0])\n",
    "axs[0].set_title('1. Survivors by Class')\n",
    "\n",
    "# Do the same as above but with Survived and Sex\n",
    "survived_by_sex = passengers.groupby(['Survived', 'Sex']).size().unstack()\n",
    "survived_by_sex.plot(kind='bar', stacked=True, ax=axs[1])\n",
    "axs[1].set_title('2. Survivors by Sex')\n",
    "\n",
    "# Display plots\n",
    "plt.show()"
   ]
  },
  {
   "cell_type": "markdown",
   "metadata": {},
   "source": [
    "From the above bar graphs we can see that there is a big change in ratio between male and female, and between 3 class 1/2 class passengers represented in the two different categories (Survived: False/True). It do look as if women had a higher chance of survival than men and 3 class passengers a much lower chance than 1 class passengers. To really make sure that this isn't just in our sample we will perform tests to see if the two deviations are statistically significant or not. \n",
    "\n",
    "We also tried plotting the survival rate for passengers born the same year but too much noise did make it hard to get anything out of the plot. By combining the ages in to intervals of 4 we can keep some of the noise down. Judning from the adjusted graph it looks like we might have a correlation between higher age and an increased mortality rate. This will also be a question we would like to answer."
   ]
  },
  {
   "cell_type": "code",
   "execution_count": null,
   "metadata": {},
   "outputs": [],
   "source": [
    "#Grouped by age in full years\n",
    "survival_by_age = passengers.groupby(lambda x: int(passengers.loc[x].Age)).Survived\n",
    "survival_rate_by_age = survival_by_age.apply(lambda x: x[x == True].count()/(x.count() * 1.0))\n",
    "plt.scatter(survival_rate_by_age.index, survival_rate_by_age);"
   ]
  },
  {
   "cell_type": "code",
   "execution_count": null,
   "metadata": {},
   "outputs": [],
   "source": [
    "#Group by age in intervals of 4\n",
    "survival_by_age_group = passengers.groupby(lambda x: int(passengers.loc[x].Age/4)*4).Survived\n",
    "survival_rate_by_age_group = survival_by_age_group.apply(lambda x: x[x == True].count()/(x.count() * 1.0))\n",
    "plt.scatter(survival_rate_by_age_group.index, survival_rate_by_age_group);"
   ]
  },
  {
   "cell_type": "markdown",
   "metadata": {},
   "source": [
    "## Chi squared test for independence\n",
    "\n",
    "After looking at the above three variables and plots we can hypothesize about there being three factors that all had  effect on the chance of survival.\n",
    "\n",
    "1. Class, lower passenger class also meant lower probability for survival.\n",
    "2. Sex, women had a higher probability for survival than men.\n",
    "3. Age, higher age also meant a decreased chance of survival.\n",
    "\n",
    "We will start by using a [chi squared test for independence](https://en.wikipedia.org/wiki/Chi-squared_test) to test if the frequency of survival for our passengers and dependent on the first two factors, Class and Gender, frequencies.\n",
    "\n",
    "The test is possible to perform since all our involved variables are categorical, meaning that all our outcomes are mutually exclusive (you cannot be dead and alive, or in first and second class at the same time) and the total probability for all outcomes adds up to 1 (meaning you have to be either be dead or alive etc).\n",
    "\n",
    "Explained very shortly to do a chi squared test we calculate our chi square statistic, $\\chi^2$, as a normalized sum of the squared deviations between observed and theoretical frequencies and then compare it to a critical value (found in a table) based on our confidence level and degrees of freedom. Expressed mathematically it looks something like the below.\n",
    "\n",
    "$$ \\chi^2 = \\sum_n{\\frac{(O_i - E_i)^2}{E_i}} $$ \n",
    "\n",
    "where\n",
    "\n",
    "$\\chi^2 =$ the chi statistic  \n",
    "$O_i =$ observations of type i  \n",
    "$E_i = Np_i =$ expected frequency for type i  \n",
    "$N =$ Total number of observations  \n",
    "$n =$ number of types of observations  \n",
    "\n",
    "To test for variable indepence we formulate the following hypothesises.\n",
    "\n",
    "$H_0$: The variables are independent.  \n",
    "$H_a$: The variables are **not** independent.\n",
    "\n",
    "To start our calculations we first define a function for calculating the $\\chi^2$-statistic."
   ]
  },
  {
   "cell_type": "markdown",
   "metadata": {},
   "source": [
    "Then we define how to perform the chi square test."
   ]
  },
  {
   "cell_type": "code",
   "execution_count": null,
   "metadata": {},
   "outputs": [],
   "source": [
    "def chi2_test(data, var1, var2):\n",
    "    '''\n",
    "    Chi^2 test that checks a defined variable(var2) against another(var1) boolean variable for dependency.\n",
    "    Returns the chi statistic for the defined variable(var2).\n",
    "    '''\n",
    "    var1_by_var2 = pd.DataFrame(data.groupby([var2, var1]).size().unstack()[True])\n",
    "    rate = data[data[var1] == True][var1].count() / (data[var1].count()*1.0)\n",
    "    \n",
    "    var1_by_var2['Total'] = data.groupby([var2]).size()\n",
    "    var1_by_var2['Expected'] = var1_by_var2['Total'] * survival_rate\n",
    "    var1_by_var2['Difference'] = var1_by_var2[True] - var1_by_var2['Expected'] \n",
    "    var1_by_var2['Difference2'] = var1_by_var2['Difference']**2\n",
    "    var1_by_var2['Proportion'] = var1_by_var2['Difference2'] / var1_by_var2['Expected']\n",
    "\n",
    "    return var1_by_var2['Proportion'].sum()"
   ]
  },
  {
   "cell_type": "markdown",
   "metadata": {},
   "source": [
    "Degrees of freedom is defined as $(rows - 1)(columns - 1)$. In our case with 2 possible outcomes for survival and 3 for class we get $df = 1 * 2 = 2$.  \n",
    "Further, our $\\alpha$(confidence level) for the test is 0.05 which gives us a critical value of 5.99 from our [$\\chi^2$table](https://en.wikipedia.org/wiki/Chi-squared_distribution#Table_of_.CF.872_values_vs_p-values)."
   ]
  },
  {
   "cell_type": "code",
   "execution_count": null,
   "metadata": {},
   "outputs": [],
   "source": [
    "chi2_test(passengers, 'Survived', 'Class')"
   ]
  },
  {
   "cell_type": "markdown",
   "metadata": {},
   "source": [
    "The statistic value is higher than our critical value which means we reject our $H_0$ that the two variables survival and class are independent with a 95% probability.\n",
    "\n",
    "Similarly for survival and sex we get $df = 1 * 1 = 1$ with two outcomes for both survival and sex.\n",
    "Using the same $\\alpha$ gives us a $\\chi^2$ critical value of 3.84."
   ]
  },
  {
   "cell_type": "code",
   "execution_count": null,
   "metadata": {},
   "outputs": [],
   "source": [
    "chi2_test(passengers, 'Survived', 'Sex')"
   ]
  },
  {
   "cell_type": "markdown",
   "metadata": {},
   "source": [
    "Once again we get a statistic value larger than our critical value meaning that we once again reject the $H_0$. This means there are a dependency between sex and survival rate with a probability of 95%."
   ]
  },
  {
   "cell_type": "markdown",
   "metadata": {},
   "source": [
    "## Logistical regression for probabilities  \n",
    "\n",
    "Next we will take our analysis one step further and investigate the relation between Age and survival with help from a logistical regression model from the statsmodels package. For another more extensive example have a look at [this blog post](http://blog.yhat.com/posts/logistic-regression-python-rodeo.html) which I also used as a reference for the following analysis. \n",
    "\n",
    "Since we already have verified that both class and sex also influences survival we choose to add these variables as well to the regression model. In order to add these two non-continuous variables we need to create some additional dummy variables to represent the different values for class and age as simple True(1) or False(0) variables. This is simple to do using pandas .get_dummies() method for our data frame."
   ]
  },
  {
   "cell_type": "code",
   "execution_count": null,
   "metadata": {},
   "outputs": [],
   "source": [
    "# Add dummy variables for class and sex.\n",
    "passenger_dummies = passengers.join(\n",
    "    pd.get_dummies(passengers['Class'], prefix='Class'))\n",
    "passenger_dummies = passenger_dummies.join(\n",
    "    pd.get_dummies(passengers['Sex']))\n",
    "\n",
    "# We drop the Class and Sex columns from the table since they aren't needed.\n",
    "passenger_dummies.drop('Class', axis=1, inplace=True)\n",
    "passenger_dummies.drop('Sex', axis=1, inplace=True)\n",
    "\n",
    "# To create a baseline, our typical passenger, we drop the class 3 and male column.\n",
    "passenger_dummies.drop('Class_3', axis=1, inplace=True)\n",
    "passenger_dummies.drop('male', axis=1, inplace=True)\n",
    "\n",
    "passenger_dummies.head()"
   ]
  },
  {
   "cell_type": "markdown",
   "metadata": {},
   "source": [
    "Next step is to feed our data into the logistic regression model from the statsmodel package and fit it to the inputted data."
   ]
  },
  {
   "cell_type": "code",
   "execution_count": null,
   "metadata": {},
   "outputs": [],
   "source": [
    "logit = sm.Logit(passenger_dummies['Survived'], \n",
    "                 passenger_dummies[passenger_dummies.columns[1:]])\n",
    "\n",
    "# Fit the model\n",
    "result = logit.fit()\n",
    "\n",
    "result.summary()"
   ]
  },
  {
   "cell_type": "markdown",
   "metadata": {},
   "source": [
    "Looking at the coefficients for Age, Class_1, Class_2, and female we can see that we have a negative relation between and survival while class and sex have positive relations, all consistent with what we saw in our plots in the beginning. It is also important to note that the confidence interval for all coefficients are strictly negative or positive meaning there are no question that each of the coefficients have influence over our survival rate.\n",
    "\n",
    "As a last finale we plot all the different possibilities for survival for each combination of our categorical variables so that we can further analyse what passengers had the highest or lowest possiblity for survival during the shipwreck. "
   ]
  },
  {
   "cell_type": "code",
   "execution_count": null,
   "metadata": {},
   "outputs": [],
   "source": [
    "# Last step, visualizing the probability for all possible data points\n",
    "ages = np.linspace(0, 80, 81, dtype=int)\n",
    "\n",
    "# Define cartesian function\n",
    "def cartesian(arrays, out=None):\n",
    "    arrays = [np.asarray(x) for x in arrays]\n",
    "    dtype = arrays[0].dtype\n",
    "    \n",
    "    n = np.prod([x.size for x in arrays])\n",
    "    if out is None:\n",
    "        out = np.zeros([n, len(arrays)], dtype=dtype)\n",
    "        \n",
    "    m = n / arrays[0].size\n",
    "    out[:,0] = np.repeat(arrays[0], m)\n",
    "    if arrays[1:]:\n",
    "        cartesian(arrays[1:], out=out[0:m,1:])\n",
    "        for j in xrange(1, arrays[0].size):\n",
    "            out[j*m:(j+1)*m,1:] = out[0:m,1:]\n",
    "    return out\n",
    "\n",
    "# Enumerate all possible combinations of dummy variables (0=male, 1=female)\n",
    "combinations = pd.DataFrame(cartesian([ages, [1, 2, 3], [0, 1]]))\n",
    "\n",
    "# Recreate dummies\n",
    "combinations.columns = ['age', 'class', 'female']\n",
    "\n",
    "dummy_classes = pd.get_dummies(combinations['class'])\n",
    "dummy_classes.columns = ['class_1', 'class_2', 'class_3']\n",
    "\n",
    "dummy_sexes = pd.get_dummies(combinations['female'])\n",
    "dummy_sexes.columns = ['male', 'female']\n",
    "\n",
    "# Keep what we need for predictions and join with dummies\n",
    "\n",
    "combinations = pd.DataFrame(combinations['age']).join(dummy_classes.ix[:, :'class_2'])\n",
    "combinations = combinations.join(dummy_sexes.ix[:, 'female':])\n",
    "\n",
    "combinations['survival_prediction'] = result.predict(combinations)\n",
    "\n",
    "# Predicted survival probabilities for a average age passenger.\n",
    "combinations[180:186]"
   ]
  },
  {
   "cell_type": "code",
   "execution_count": null,
   "metadata": {},
   "outputs": [],
   "source": [
    "#Pivoting table for plotting.\n",
    "pivot = pd.pivot_table(combinations, \n",
    "                       values=['survival_prediction'],\n",
    "                       index=['age'],\n",
    "                       columns=['female', 'class_1', 'class_2'])\n",
    "\n",
    "# And plot the resulting graph.\n",
    "pivot.plot();"
   ]
  },
  {
   "cell_type": "markdown",
   "metadata": {},
   "source": [
    "### Conclusion"
   ]
  },
  {
   "cell_type": "code",
   "execution_count": null,
   "metadata": {},
   "outputs": [],
   "source": []
  }
 ],
 "metadata": {
  "kernelspec": {
   "display_name": "Python 2",
   "language": "python",
   "name": "python2"
  },
  "language_info": {
   "codemirror_mode": {
    "name": "ipython",
    "version": 2
   },
   "file_extension": ".py",
   "mimetype": "text/x-python",
   "name": "python",
   "nbconvert_exporter": "python",
   "pygments_lexer": "ipython2",
   "version": "2.7.13"
  }
 },
 "nbformat": 4,
 "nbformat_minor": 1
}
