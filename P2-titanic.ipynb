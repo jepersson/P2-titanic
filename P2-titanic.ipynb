{
 "cells": [
  {
   "cell_type": "markdown",
   "metadata": {},
   "source": [
    "# Surviving Titanic\n",
    "\n",
    "## Introduction and initial question\n",
    "\n",
    "Was there any factors that made it more possible to survive the Titanic shipwreck? Did it matter which class you were in or if you were a man or woman? "
   ]
  },
  {
   "cell_type": "markdown",
   "metadata": {},
   "source": [
    "## The dataset\n",
    "\n",
    "Taken from Kaggle's competition, https://www.kaggle.com/c/titanic/data\n",
    "\n",
    "### Data Dictionary\n",
    "\n",
    "|Variable|Definition|Key|\n",
    "|--------|----------|---|\n",
    "|survival|Survival|0 = No, 1 = Yes|\n",
    "|pclass|Ticket class|1 = 1st, 2 = 2nd, 3 = 3rd|\n",
    "|sex|Sex||\n",
    "|Age|Age in years||\t\n",
    "|sibsp|# of siblings / spouses aboard the Titanic||\n",
    "|parch|# of parents / children aboard the Titanic||\n",
    "|ticket|Ticket number||\n",
    "|fare|Passenger fare||\n",
    "|cabin|Cabin number||\n",
    "|embarked|Port of Embarkation|C = Cherbourg, Q = Queenstown, S = Southampton|\n",
    "\n",
    "### Variable Notes\n",
    "\n",
    "* pclass: A proxy for socio-economic status (SES)\n",
    "  * 1st = Upper\n",
    "  * 2nd = Middle\n",
    "  * 3rd = Lower\n",
    "\n",
    "* age: Age is fractional if less than 1. If the age is estimated, is it in the form of xx.5\n",
    "\n",
    "* sibsp: The dataset defines family relations in this way...\n",
    "  * Sibling = brother, sister, stepbrother, stepsister\n",
    "  * Spouse = husband, wife (mistresses and fiancés were ignored)\n",
    "\n",
    "* parch: The dataset defines family relations in this way...\n",
    "  * Parent = mother, father\n",
    "  * Child = daughter, son, stepdaughter, stepson\n",
    "*Some children travelled only with a nanny, therefore parch=0 for them.*"
   ]
  },
  {
   "cell_type": "markdown",
   "metadata": {},
   "source": [
    "### Start by Importing necessary libraries\n",
    "\n",
    "***Explain about the libraries used for this post***"
   ]
  },
  {
   "cell_type": "code",
   "execution_count": null,
   "metadata": {},
   "outputs": [],
   "source": [
    "import numpy as np\n",
    "import pandas as pd\n",
    "from pandas import DataFrame, Series\n",
    "\n",
    "import matplotlib.pyplot as plt\n",
    "import seaborn\n",
    "\n",
    "%matplotlib inline"
   ]
  },
  {
   "cell_type": "markdown",
   "metadata": {},
   "source": [
    "### Now read in the data\n",
    "\n",
    "Next we start by reading in the data using the pandas CSV reader."
   ]
  },
  {
   "cell_type": "code",
   "execution_count": null,
   "metadata": {},
   "outputs": [],
   "source": [
    "passengers = pd.read_csv('titanic-data.csv')\n",
    "passengers.head()"
   ]
  },
  {
   "cell_type": "code",
   "execution_count": null,
   "metadata": {},
   "outputs": [],
   "source": [
    "# Check info about the data we read\n",
    "passengers.info()"
   ]
  },
  {
   "cell_type": "markdown",
   "metadata": {},
   "source": [
    "We can see that Age, Cabin, and Embarked columns are missing values.\n",
    "We either need to estimate the missing values or drop them. We can estimate missing ages but for our analysis I believe the non-null 714 values are enough. We choose to drop the rows with null values."
   ]
  },
  {
   "cell_type": "code",
   "execution_count": null,
   "metadata": {},
   "outputs": [],
   "source": [
    "passengers = passengers.dropna(subset=['Age'])"
   ]
  },
  {
   "cell_type": "markdown",
   "metadata": {},
   "source": [
    "Cabin has to many missing values and according to wikipedia also a bias towards first class passengers. This column will be dropped during this analysis. Something that would be interesting to look up if cabin position would influence survival but this will be out of scope for this time."
   ]
  },
  {
   "cell_type": "code",
   "execution_count": null,
   "metadata": {},
   "outputs": [],
   "source": [
    "passengers = passengers.drop('Cabin', axis=1)"
   ]
  },
  {
   "cell_type": "markdown",
   "metadata": {},
   "source": [
    "Embarked only had three missing vaules initially. However, it is hard to imagine a scenario where your point of origin would affect our survival rate. I choose to drop this column as well. "
   ]
  },
  {
   "cell_type": "code",
   "execution_count": null,
   "metadata": {},
   "outputs": [],
   "source": [
    "passengers = passengers.drop('Embarked', axis=1)"
   ]
  },
  {
   "cell_type": "markdown",
   "metadata": {},
   "source": [
    "Further, we have some columns containing data that might be interesting. (Titles in Name, Ticket price in Fare, etc.) With more analysis these might contain valuable information but to keep our analysis simple, I will drop these as well."
   ]
  },
  {
   "cell_type": "code",
   "execution_count": null,
   "metadata": {},
   "outputs": [],
   "source": [
    "passengers = passengers.drop('Name', axis=1)\n",
    "passengers = passengers.drop('PassengerId', axis=1)\n",
    "passengers = passengers.drop('Fare', axis=1)"
   ]
  },
  {
   "cell_type": "markdown",
   "metadata": {},
   "source": [
    "To make some plotting easier we add a column 'AgeGroup' where we split our sample passengers ages into four groups with equal spans.  \n",
    "Also, upon further inspection it seems like SibSp/Parch and ticket groups by ticket numbers don't have any correlation making it hard to pinpoint which passenger are related to which etc. There might be a bit too much work to little return for analysing this data so we drop the two columns."
   ]
  },
  {
   "cell_type": "code",
   "execution_count": null,
   "metadata": {},
   "outputs": [],
   "source": [
    "passengers = passengers.drop('Ticket', axis=1)\n",
    "passengers = passengers.drop('SibSp', axis=1)\n",
    "passengers = passengers.drop('Parch', axis=1)"
   ]
  },
  {
   "cell_type": "markdown",
   "metadata": {},
   "source": [
    "Lastly, to make column names more coherent we rename \"Pclass\" to just \"Class\" and to better described to contents we convert the Sex, Class, and Survived column's data types from Strings to Categories, and Integers to booleans respectively. "
   ]
  },
  {
   "cell_type": "code",
   "execution_count": null,
   "metadata": {},
   "outputs": [],
   "source": [
    "passengers = passengers.rename(columns={'Pclass': 'Class'})\n",
    "\n",
    "passengers.Sex = passengers.Sex.astype('category')\n",
    "passengers.Class = passengers.Class.astype('category')\n",
    "\n",
    "passengers.Survived = passengers.Survived.apply(bool)"
   ]
  },
  {
   "cell_type": "markdown",
   "metadata": {},
   "source": [
    "This gives us something like the below to work with."
   ]
  },
  {
   "cell_type": "code",
   "execution_count": null,
   "metadata": {},
   "outputs": [],
   "source": [
    "passengers.head()"
   ]
  },
  {
   "cell_type": "markdown",
   "metadata": {},
   "source": [
    "### My own analysis of the variables types\n",
    "\n",
    "***NEED TO WRITE***"
   ]
  },
  {
   "cell_type": "markdown",
   "metadata": {},
   "source": [
    "### Descriptive stats"
   ]
  },
  {
   "cell_type": "code",
   "execution_count": null,
   "metadata": {},
   "outputs": [],
   "source": [
    "passengers.Age.describe()"
   ]
  },
  {
   "cell_type": "code",
   "execution_count": null,
   "metadata": {},
   "outputs": [],
   "source": [
    "passengers.Sex.describe()"
   ]
  },
  {
   "cell_type": "code",
   "execution_count": null,
   "metadata": {},
   "outputs": [],
   "source": [
    "passengers.Class.describe()"
   ]
  },
  {
   "cell_type": "code",
   "execution_count": null,
   "metadata": {},
   "outputs": [],
   "source": [
    "passengers.Survived.describe()"
   ]
  },
  {
   "cell_type": "markdown",
   "metadata": {},
   "source": [
    "We can see here that we our sample mostly consists of third class travelers and a typical passenger were around 30 years old. Even after trimming of some rows we still have 714 entries in our sample to work with.\n",
    "\n",
    "Let us also plot some different relations between class, sex, and age for the survivors and non-survivors for our data to see if we can find some interesting anomalities."
   ]
  },
  {
   "cell_type": "code",
   "execution_count": null,
   "metadata": {},
   "outputs": [],
   "source": [
    "fig, axs = plt.subplots(ncols=2, figsize=(8, 4))\n",
    "\n",
    "survived_by_class = passengers.groupby(['Survived','Class']).size().unstack()\n",
    "survived_by_class.plot(kind='bar', stacked=True, ax=axs[0])\n",
    "axs[0].set_title('1. Survivors by Class')\n",
    "\n",
    "survived_by_sex = passengers.groupby(['Survived', 'Sex']).size().unstack()\n",
    "survived_by_sex.plot(kind='bar', stacked=True, ax=axs[1])\n",
    "axs[1].set_title('2. Survivors by Sex')\n",
    "\n",
    "plt.show()"
   ]
  },
  {
   "cell_type": "markdown",
   "metadata": {},
   "source": [
    "From the above plots we can see some interesting facts. For example, there were proportionaly more women than men that survived the accident. This could be somewhat influenced by the fact that there where much more men than women in third class which also had higher rate of casualities. \n",
    "\n",
    "We also tried plotting the survival rate for passengers born the same year but too much noise did make it hard to get anything out of the plot. By bining the ages to intervals of 4 we can keep some of the noise down by increasing the number of samples per data point. From the second graph it looks light we might have a weak relationship between higher age and increased mortality rate."
   ]
  },
  {
   "cell_type": "code",
   "execution_count": null,
   "metadata": {},
   "outputs": [],
   "source": [
    "#Grouped by age in full years\n",
    "survival_by_age = passengers.groupby(lambda x: int(passengers.loc[x].Age)).Survived\n",
    "\n",
    "survival_rate_by_age = survival_by_age.apply(lambda x: x[x == True].count()/(x.count() * 1.0))\n",
    "\n",
    "plt.scatter(survival_rate_by_age.index, survival_rate_by_age);"
   ]
  },
  {
   "cell_type": "code",
   "execution_count": null,
   "metadata": {},
   "outputs": [],
   "source": [
    "#Group by age in intervals of 4\n",
    "survival_by_age_group = passengers.groupby(lambda x: int(passengers.loc[x].Age/4)*4).Survived"
   ]
  },
  {
   "cell_type": "code",
   "execution_count": null,
   "metadata": {},
   "outputs": [],
   "source": [
    "survival_rate_by_age_group = survival_by_age_group.apply(lambda x: x[x == True].count()/(x.count() * 1.0))\n",
    "\n",
    "plt.scatter(survival_rate_by_age_group.index, survival_rate_by_age_group);"
   ]
  },
  {
   "cell_type": "markdown",
   "metadata": {},
   "source": [
    "### Chi^2 test for relevance"
   ]
  },
  {
   "cell_type": "markdown",
   "metadata": {},
   "source": [
    "After looking at the above three variables and plots we can hypothesize about there being three factors that all had some effect on the chance of survival.\n",
    "\n",
    "1. Third class passengers where less likely to survive than 1 and 2 class passengers.\n",
    "2. Women had a higher survivability than men.\n",
    "3. Higher age decreased chance of survival.\n",
    "\n",
    "I believe we can draw a conclusion already about what way the trends are headed for the above three variables but in order to test if what we are seeing is not just a coincidence from the values we have sampled we will perform Chi^2 test on each of them to see if there are any statistically significant change depending on these variables."
   ]
  },
  {
   "cell_type": "code",
   "execution_count": null,
   "metadata": {},
   "outputs": [],
   "source": [
    "# First we calculate the total survival rate\n",
    "\n",
    "survival_rate = passengers[passengers.Survived == True].Survived.count()/(passengers.Survived.count()*1.0)\n",
    "survival_rate"
   ]
  },
  {
   "cell_type": "code",
   "execution_count": null,
   "metadata": {},
   "outputs": [],
   "source": [
    "# Starting with the Chi^2 for survivors by class.\n",
    "survivors_by_class = pd.DataFrame(passengers.groupby(['Class', 'Survived']).size().unstack()[True])\n",
    "survivors_by_class = survivors_by_class.rename(columns={True: 'Survivors'})\n",
    "\n",
    "survivors_by_class['Total'] = passengers.groupby(['Class']).size()\n",
    "survivors_by_class['Expected'] = survivors_by_class['Total'] * survival_rate\n",
    "survivors_by_class['Difference'] = survivors_by_class['Survivors'] - survivors_by_class['Expected'] \n",
    "survivors_by_class['Difference2'] = survivors_by_class['Difference']**2\n",
    "survivors_by_class['Proportion'] = survivors_by_class['Difference2'] / survivors_by_class['Expected']\n",
    "\n",
    "survivors_by_class"
   ]
  },
  {
   "cell_type": "code",
   "execution_count": null,
   "metadata": {},
   "outputs": [],
   "source": [
    "survivors_by_class['Proportion'].sum()"
   ]
  },
  {
   "cell_type": "markdown",
   "metadata": {},
   "source": [
    "Since df's definition is (rows - 1)(columns - 1) we get df = 2\n",
    "And we will use an alpha of 0.05.\n",
    "\n",
    "Looking up the CHI^2 value in a table gives us the critical value: 5.991\n",
    "\n",
    "This means there are a dependency between class and survival rate with a probability of 95%."
   ]
  },
  {
   "cell_type": "code",
   "execution_count": null,
   "metadata": {},
   "outputs": [],
   "source": [
    "# Next up is the chi square test for sex.\n",
    "survivors_by_sex = pd.DataFrame(\n",
    "    passengers.groupby(['Sex', 'Survived']).size().unstack()[True])\n",
    "survivors_by_sex = survivors_by_sex.rename(\n",
    "    columns={True: 'Survivors'})\n",
    "\n",
    "survivors_by_sex['Total'] = passengers.groupby(['Sex']).size()\n",
    "survivors_by_sex['Expected'] = survivors_by_sex['Total'] * survival_rate\n",
    "survivors_by_sex['Difference'] = survivors_by_sex['Survivors'] - survivors_by_sex['Expected'] \n",
    "survivors_by_sex['Difference2'] = survivors_by_sex['Difference']**2\n",
    "survivors_by_sex['Proportion'] = survivors_by_sex['Difference2'] / survivors_by_sex['Expected']\n",
    "\n",
    "survivors_by_sex"
   ]
  },
  {
   "cell_type": "code",
   "execution_count": null,
   "metadata": {},
   "outputs": [],
   "source": [
    "survivors_by_sex['Proportion'].sum()"
   ]
  },
  {
   "cell_type": "markdown",
   "metadata": {},
   "source": [
    "Since df's definition is (rows - 1)(columns - 1) we get df = 1\n",
    "And we will use an alpha of 0.05.\n",
    "\n",
    "Looking up the CHI^2 value in a table gives us the critical value: 3.841\n",
    "\n",
    "This means there are a dependency between sex and survival rate with a probability of 95%."
   ]
  },
  {
   "cell_type": "markdown",
   "metadata": {},
   "source": [
    "### Logistical regression for probabilities"
   ]
  },
  {
   "cell_type": "markdown",
   "metadata": {},
   "source": [
    "Next we will investigate the relation between Age and survival with logistical regression from the statsmodels package."
   ]
  },
  {
   "cell_type": "code",
   "execution_count": null,
   "metadata": {},
   "outputs": [],
   "source": [
    "import statsmodels.api as sm\n",
    "\n",
    "# Start by dropping class and sex, for now...\n",
    "passenger_ages = passengers.drop(['Class', 'Sex'], axis=1)\n"
   ]
  },
  {
   "cell_type": "code",
   "execution_count": null,
   "metadata": {},
   "outputs": [],
   "source": [
    "logit = sm.Logit(passenger_ages.Survived, passenger_ages.Age)\n",
    "\n",
    "# Fit the model\n",
    "result = logit.fit()\n",
    "\n",
    "result.summary()\n"
   ]
  },
  {
   "cell_type": "markdown",
   "metadata": {},
   "source": [
    "As a final step we include variables for Class and Age to see how all three affects the survival rate."
   ]
  },
  {
   "cell_type": "code",
   "execution_count": null,
   "metadata": {},
   "outputs": [],
   "source": [
    "passenger_dummies = passenger_ages.join(\n",
    "    pd.get_dummies(passengers['Class'], prefix='Class'))\n",
    "passenger_dummies = passenger_dummies.join(\n",
    "    pd.get_dummies(passengers['Sex']))\n",
    "\n",
    "# To create a baseline, our typical passenger, \n",
    "# we drop the class 3 and male column.\n",
    "passenger_dummies.drop('Class_3', axis=1, inplace=True)\n",
    "passenger_dummies.drop('male', axis=1, inplace=True)\n",
    "\n",
    "passenger_dummies.head()"
   ]
  },
  {
   "cell_type": "code",
   "execution_count": null,
   "metadata": {},
   "outputs": [],
   "source": [
    "logit = sm.Logit(passenger_dummies['Survived'], \n",
    "                 passenger_dummies[passenger_dummies.columns[1:]])\n",
    "\n",
    "# Fit the model\n",
    "result = logit.fit()\n",
    "\n",
    "result.summary()"
   ]
  },
  {
   "cell_type": "code",
   "execution_count": null,
   "metadata": {},
   "outputs": [],
   "source": [
    "# Last step, visualizing the probability for all possible data points\n",
    "ages = np.linspace(0, 80, 81, dtype=int)\n",
    "\n",
    "# define cartesian function\n",
    "def cartesian(arrays, out=None):\n",
    "    arrays = [np.asarray(x) for x in arrays]\n",
    "    dtype = arrays[0].dtype\n",
    "    \n",
    "    n = np.prod([x.size for x in arrays])\n",
    "    if out is None:\n",
    "        out = np.zeros([n, len(arrays)], dtype=dtype)\n",
    "        \n",
    "    m = n / arrays[0].size\n",
    "    out[:,0] = np.repeat(arrays[0], m)\n",
    "    if arrays[1:]:\n",
    "        cartesian(arrays[1:], out=out[0:m,1:])\n",
    "        for j in xrange(1, arrays[0].size):\n",
    "            out[j*m:(j+1)*m,1:] = out[0:m,1:]\n",
    "    return out\n",
    "\n",
    "#enumerate all possible combinations of dummy variables (0=male, 1=female)\n",
    "combinations = pd.DataFrame(cartesian([ages, [1, 2, 3], [0, 1]]))\n",
    "\n",
    "#recreate dummies\n",
    "combinations.columns = ['age', 'class', 'female']\n",
    "\n",
    "dummy_classes = pd.get_dummies(combinations['class'])\n",
    "dummy_classes.columns = ['class_1', 'class_2', 'class_3']\n",
    "\n",
    "dummy_sexes = pd.get_dummies(combinations['female'])\n",
    "dummy_sexes.columns = ['male', 'female']\n",
    "\n",
    "#keep what we need for predictions and join with dummies\n",
    "\n",
    "combinations = pd.DataFrame(combinations['age']).join(dummy_classes.ix[:, :'class_2'])\n",
    "combinations = combinations.join(dummy_sexes.ix[:, 'female':])\n",
    "\n",
    "combinations['survival_prediction'] = result.predict(combinations)\n",
    "\n",
    "# Predicted survival probabilities for a average aged passenger.\n",
    "combinations[180:186]"
   ]
  },
  {
   "cell_type": "code",
   "execution_count": null,
   "metadata": {},
   "outputs": [],
   "source": [
    "#Pivoting table for plotting\n",
    "pivot = pd.pivot_table(combinations, \n",
    "                       values=['survival_prediction'],\n",
    "                       index=['age'],\n",
    "                       columns=['female', 'class_1', 'class_2'])\n",
    "\n",
    "pivot.head()"
   ]
  },
  {
   "cell_type": "code",
   "execution_count": null,
   "metadata": {},
   "outputs": [],
   "source": [
    "pivot.plot();"
   ]
  },
  {
   "cell_type": "markdown",
   "metadata": {},
   "source": [
    "### Conclusion"
   ]
  },
  {
   "cell_type": "code",
   "execution_count": null,
   "metadata": {},
   "outputs": [],
   "source": []
  }
 ],
 "metadata": {
  "kernelspec": {
   "display_name": "Python 2",
   "language": "python",
   "name": "python2"
  },
  "language_info": {
   "codemirror_mode": {
    "name": "ipython",
    "version": 2
   },
   "file_extension": ".py",
   "mimetype": "text/x-python",
   "name": "python",
   "nbconvert_exporter": "python",
   "pygments_lexer": "ipython2",
   "version": "2.7.13"
  }
 },
 "nbformat": 4,
 "nbformat_minor": 1
}
