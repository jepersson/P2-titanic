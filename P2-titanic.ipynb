{
 "cells": [
  {
   "cell_type": "markdown",
   "metadata": {},
   "source": [
    "# Surviving Titanic\n",
    "\n",
    "## Introduction and initial question\n",
    "\n",
    "This time we will take a look at a dataset containing passenger information from the Titanic and see if we can find any patterns in the data pointing to if sex, age, or social status had any influence over the probability of surviving the disastrous shipwreck.\n",
    "\n",
    "Was it possibly so that the upper class were favored and had a higher chance of survival than the other passengers? Perhaps age made a difference? And was it really ladies first, even for a place on a lifeboat on the sinking ship?\n",
    "\n",
    "We will take a look at and analyze the dataset to see if we can find the answers to these questions.\n",
    "But first, before we start let's import the libraries we will need for our analysis."
   ]
  },
  {
   "cell_type": "code",
   "execution_count": null,
   "metadata": {},
   "outputs": [],
   "source": [
    "# Importing numpy and pandas for handy data handling. \n",
    "import numpy as np\n",
    "import pandas as pd\n",
    "\n",
    "# Matplotlib for plotting our data and seaborn for styling our plots.\n",
    "import matplotlib.pyplot as plt\n",
    "import seaborn\n",
    "\n",
    "# Importing chi square test from scipy.stats package to test for independence\n",
    "from scipy.stats import chi2_contingency\n",
    "\n",
    "# We will use statsmodels logistic regression model to analyze \n",
    "# the different probabilities of survival depending on age, gender, and class.  \n",
    "import statsmodels.api as sm\n",
    "\n",
    "# Enabling inline plots.\n",
    "%matplotlib inline"
   ]
  },
  {
   "cell_type": "markdown",
   "metadata": {},
   "source": [
    "Now we are ready to tackle our choosen dataset."
   ]
  },
  {
   "cell_type": "markdown",
   "metadata": {},
   "source": [
    "## The dataset\n",
    "\n",
    "The set itself is taken from the following [Kaggle competition](https://www.kaggle.com/c/titanic/data) which works as an introduction to their machine learning competitions. We will use the same dataset but focus more on our analysis of the data rather than making predictions of who should live or die.\n",
    "\n",
    "We start by reading in the data using the pandas CSV reader and take a look at what we have. "
   ]
  },
  {
   "cell_type": "code",
   "execution_count": null,
   "metadata": {},
   "outputs": [],
   "source": [
    "passengers = pd.read_csv('titanic-data.csv')\n",
    "passengers.head(3)"
   ]
  },
  {
   "cell_type": "markdown",
   "metadata": {},
   "source": [
    "It seems like the data has been read with almost no problems at all, but there are some columns in the given set that needs further explanation. The following explanations are given on the Kaggle competition page.\n",
    "\n",
    "|Variable|Definition|Key|\n",
    "|--------|----------|---|\n",
    "|survival|Survival|0 = No, 1 = Yes|\n",
    "|pclass|Ticket class|1 = 1st, 2 = 2nd, 3 = 3rd|\n",
    "|sex|Sex||\n",
    "|Age|Age in years||\t\n",
    "|sibsp|# of siblings / spouses aboard the Titanic||\n",
    "|parch|# of parents / children aboard the Titanic||\n",
    "|ticket|Ticket number||\n",
    "|fare|Passenger fare||\n",
    "|cabin|Cabin number||\n",
    "|embarked|Port of Embarkation|C = Cherbourg, Q = Queenstown, S = Southampton|\n",
    "\n",
    "We can also see that there are some 'NaN' values present in the cabin column so just to be sure we will take an extra look at our data with the `.info()` method."
   ]
  },
  {
   "cell_type": "code",
   "execution_count": null,
   "metadata": {},
   "outputs": [],
   "source": [
    "# Check info about the data we read with .read_csv()\n",
    "passengers.info()"
   ]
  },
  {
   "cell_type": "markdown",
   "metadata": {},
   "source": [
    "We can see that in addition to the Cabin column, Age, and Embarked columns are also missing values.\n",
    "We either need to estimate the missing values or drop them. \n",
    "\n",
    "We could estimate missing ages with either median or average values, but for our analysis the non-null 714 values will be enough. We choose to just drop the rows with null values this time. Cabin has to many missing values and according to wikipedia also a possible bias towards first class passengers. However, something that would be interesting to look up is for example if cabin proximity to the few lifeboats that were available influenced the possibility for survival. This is out of scope for this time so instead we choose to just drop the columns.\n",
    "\n",
    "Also, upon further inspection it seems like SibSp/Parch and ticket numbers don't have any much connection making it hard to make sense of which passenger are related to which. There might be some interesting analysis in answering the question if being in a group increased or decreased the pribability for survival. But, once again this might be a bit to much work for this time so we choose to drop these three columns as well.\n",
    "\n",
    "The same reasoning goes for the Name, PassengerId, and Fare columns which we also choose to drop."
   ]
  },
  {
   "cell_type": "code",
   "execution_count": null,
   "metadata": {},
   "outputs": [],
   "source": [
    "# Dropping rows with NaN values\n",
    "passengers.dropna(subset=['Age'], inplace=True)\n",
    "\n",
    "# Dropping unneeded columns\n",
    "passengers.drop('Cabin', axis=1, inplace=True)\n",
    "passengers.drop('Embarked', axis=1, inplace=True)\n",
    "\n",
    "passengers.drop('SibSp', axis=1, inplace=True)\n",
    "passengers.drop('Parch', axis=1, inplace=True)\n",
    "passengers.drop('Ticket', axis=1, inplace=True)\n",
    "\n",
    "passengers.drop('Name', axis=1, inplace=True)\n",
    "passengers.drop('PassengerId', axis=1, inplace=True)\n",
    "passengers.drop('Fare', axis=1, inplace=True)"
   ]
  },
  {
   "cell_type": "markdown",
   "metadata": {},
   "source": [
    "Last, to make column names more coherent we rename the Pclass column to just Class and to better describe to contents of each column we convert the Sex, Class, and Survived column's data types from Strings to Categories, and Integers to booleans. "
   ]
  },
  {
   "cell_type": "code",
   "execution_count": null,
   "metadata": {},
   "outputs": [],
   "source": [
    "passengers = passengers.rename(columns={'Pclass': 'Class'})\n",
    "\n",
    "passengers['Sex'] = passengers['Sex'].astype('category')\n",
    "passengers['Class'] = passengers['Class'].astype('category')\n",
    "\n",
    "passengers['Survived'] = passengers['Survived'].apply(bool)"
   ]
  },
  {
   "cell_type": "markdown",
   "metadata": {},
   "source": [
    "This gives us the below data frame to work with."
   ]
  },
  {
   "cell_type": "code",
   "execution_count": null,
   "metadata": {},
   "outputs": [],
   "source": [
    "passengers.head()"
   ]
  },
  {
   "cell_type": "code",
   "execution_count": null,
   "metadata": {},
   "outputs": [],
   "source": [
    "passengers.info()"
   ]
  },
  {
   "cell_type": "markdown",
   "metadata": {},
   "source": [
    "### Descriptive stats"
   ]
  },
  {
   "cell_type": "code",
   "execution_count": null,
   "metadata": {},
   "outputs": [],
   "source": [
    "passengers['Age'].describe()"
   ]
  },
  {
   "cell_type": "code",
   "execution_count": null,
   "metadata": {},
   "outputs": [],
   "source": [
    "passengers['Sex'].describe()"
   ]
  },
  {
   "cell_type": "code",
   "execution_count": null,
   "metadata": {},
   "outputs": [],
   "source": [
    "passengers['Class'].describe()"
   ]
  },
  {
   "cell_type": "code",
   "execution_count": null,
   "metadata": {},
   "outputs": [],
   "source": [
    "passengers['Survived'].describe()"
   ]
  },
  {
   "cell_type": "markdown",
   "metadata": {},
   "source": [
    "Based on the above, we can see that for our sample the typical passenger was a male around 30 travelling in third class and, unfortunately, did not survive the shipwreck. Worth noting is that after we cleaned up the data we have no missing values in any of our remaining columns.\n",
    "\n",
    "Lets try to plot some different relationships between class, sex, and age for the survivors and non-survivors in our data set to see if we can find something interesting. We start out with plotting comparisons for the composition of passenger class and sex between survivors and casualties. "
   ]
  },
  {
   "cell_type": "code",
   "execution_count": null,
   "metadata": {},
   "outputs": [],
   "source": [
    "# Create a grid with two columns for display\n",
    "fig, axs = plt.subplots(ncols=2, figsize=(8, 4))\n",
    "\n",
    "# Pivot passengers by Survived and Class then plot the results in a bar graph\n",
    "survived_by_class = pd.pivot_table(data=passengers[['Survived', 'Class']], \\\n",
    "                                  index='Survived', \\\n",
    "                                  columns=['Class'], \\\n",
    "                                  aggfunc=len)\n",
    "\n",
    "survived_by_class.plot(kind='bar', stacked=True, ax=axs[0])\n",
    "axs[0].set_title('1. Survivors by Class')\n",
    "\n",
    "# Do the same as above but with Survived and Sex\n",
    "survived_by_sex = pd.pivot_table(data=passengers[['Survived', 'Sex']], \\\n",
    "                                 index='Survived', \\\n",
    "                                 columns=['Sex'], \\\n",
    "                                 aggfunc=len)\n",
    "\n",
    "survived_by_sex.plot(kind='bar', stacked=True, ax=axs[1])\n",
    "axs[1].set_title('2. Survivors by Sex')\n",
    "\n",
    "# Display plots\n",
    "plt.show()"
   ]
  },
  {
   "cell_type": "markdown",
   "metadata": {},
   "source": [
    "From the above bar graphs we can see that there is a big change in ratio between male and female, and between third class and first/second class passengers represented in the two different categories (Survived: False/True). It do look as if women had a higher chance of survival than men and third class passengers a much lower chance than 1 class passengers. To really make sure that this isn't just in our sample we will perform two tests to see if the deviations are statistically significant or not. \n",
    "\n",
    "We also tried plotting the survival rate for passengers born the same year but too much noise makes it hard to draw any conclusions from it. By combining ages into intervals of 4 we can keep some of the noise down. Juding from the adjusted graph it looks like we might have a correlation between higher age and an decreased probability of survival. We will also try to answer this question later on using logistic regression."
   ]
  },
  {
   "cell_type": "code",
   "execution_count": null,
   "metadata": {},
   "outputs": [],
   "source": [
    "# Create a new grid for plots\n",
    "fig, axs = plt.subplots(ncols=2, figsize=(12, 4))\n",
    "\n",
    "\n",
    "#Grouped and plotted by age in full years\n",
    "survival_by_age = passengers.groupby(lambda x: int(passengers.loc[x].Age)).Survived\n",
    "survival_rate_by_age = survival_by_age.apply(lambda x: x[x == True].count()/(x.count() * 1.0))\n",
    "axs[0].scatter(survival_rate_by_age.index, survival_rate_by_age);\n",
    "axs[0].set(title='3. Probability of survival per Age', \n",
    "           xlabel='Age', \n",
    "           ylabel='Probability', \n",
    "           xlim=[-5, 85],\n",
    "           ylim=[-0.05,1.05])\n",
    "\n",
    "#Grouped and plotted by age in intervals of 4\n",
    "survival_by_age_group = passengers.groupby(lambda x: int(passengers.loc[x].Age/4)*4).Survived\n",
    "survival_rate_by_age_group = survival_by_age_group.apply(lambda x: x[x == True].count()/(x.count() * 1.0))\n",
    "axs[1].scatter(survival_rate_by_age_group.index, survival_rate_by_age_group);\n",
    "axs[1].set(title='4. Probability of survival per Age group', \n",
    "           xlabel='Age (groups of 4 years)', \n",
    "           ylabel='Probability', \n",
    "           xlim=[-5, 85],\n",
    "           ylim=[-0.05,1.05]);"
   ]
  },
  {
   "cell_type": "markdown",
   "metadata": {},
   "source": [
    "## Chi squared test for independence\n",
    "\n",
    "To summarize, after looking at the above three variables and plots we can hypothesize about there being three factors that all had an effect on the chance of survival.\n",
    "\n",
    "1. Class, third class passengers had a lower probability for survival than first and second class passengers.\n",
    "2. Sex, women had a higher probability for survival than men.\n",
    "3. Age, higher age meant a decreased chance of survival.\n",
    "\n",
    "We will start by using a [chi squared test for independence](https://en.wikipedia.org/wiki/Chi-squared_test) to test if the survival for our passengers are dependent on our first two factors, Class and Gender.\n",
    "\n",
    "The test is possible to perform since all our involved variables are categorical, meaning that all our outcomes are mutually exclusive (you cannot be dead and alive, or in first and second class at the same time) and the total probability for all outcomes adds up to 1 (meaning you have to be either be dead or alive etc).\n",
    "\n",
    "Explained very shortly to do a chi squared test we calculate our chi square statistic, $\\chi^2$, as a normalized sum of the squared deviations between observed and expected frequencies and then compare the statistic to a critical value (found in a table) based on our choosen confidence level and the degrees of freedom. Expressed mathematically it looks something like the below.\n",
    "\n",
    "$$ \\chi^2 = \\sum_n{\\frac{(O_i - E_i)^2}{E_i}} $$ \n",
    "\n",
    "where\n",
    "\n",
    "$\\chi^2 =$ The chi square statistic  \n",
    "$O_i =$ Observations of type i  \n",
    "$E_i = Np_i =$ expected frequency for type i  \n",
    "$N =$ Total number of observations  \n",
    "$n =$ Number of types of observations  \n",
    "\n",
    "To test for variable indepence we formulate the following hypothesises.\n",
    "\n",
    "$H_0$: The variables are independent.  \n",
    "$H_a$: The variables are **not** independent.\n",
    "\n",
    "We start with testing survival and class to see if class did have a statistically significant effect on survival. We are using the same pivot table we used to display our bar plot earlier as input."
   ]
  },
  {
   "cell_type": "code",
   "execution_count": null,
   "metadata": {},
   "outputs": [],
   "source": [
    "survived_by_class"
   ]
  },
  {
   "cell_type": "code",
   "execution_count": null,
   "metadata": {},
   "outputs": [],
   "source": [
    "chi2, p_value, dof, expected = chi2_contingency(survived_by_class)\n",
    "\n",
    "print 'Degrees of freedom: ' + str(dof)\n",
    "print 'Chi squared test score: ' + str(chi2)\n",
    "print 'P-value: ' + str(p_value)"
   ]
  },
  {
   "cell_type": "markdown",
   "metadata": {},
   "source": [
    "Looking up the critical value in a [$\\chi^2$-table](https://people.richland.edu/james/lecture/m170/tbl-chi.html) we see that the value of our statistic is higher than all values given for 2 degrees of freedom. This means that there is a dependence between survival and class significant for all reasonable $\\alpha$. As a result we reject our $H_0$.\n",
    "\n",
    "Similarly for survival and sex we use our old pivot table and recieve the following results."
   ]
  },
  {
   "cell_type": "code",
   "execution_count": null,
   "metadata": {},
   "outputs": [],
   "source": [
    "survived_by_sex"
   ]
  },
  {
   "cell_type": "code",
   "execution_count": null,
   "metadata": {},
   "outputs": [],
   "source": [
    "chi2, p_value, dof, expected = chi2_contingency(survived_by_sex)\n",
    "\n",
    "print 'Degrees of freedom: ' + str(dof)\n",
    "print 'Chi squared test score: ' + str(chi2)\n",
    "print 'P-value: ' + str(p_value)"
   ]
  },
  {
   "cell_type": "markdown",
   "metadata": {},
   "source": [
    "Once again we get a statistic value larger than any critical value for any reasonable $\\alpha$. We once again reject $H_0$ and conlude that there is a significant dependency between sex and the probability for survival."
   ]
  },
  {
   "cell_type": "markdown",
   "metadata": {},
   "source": [
    "## Logistical regression for probabilities  \n",
    "\n",
    "Next we will take our analysis one step further and investigate the relation between age and survival with help from the logistical regression model from the statsmodels package. For another more extensive example have a look at [this blog post](http://blog.yhat.com/posts/logistic-regression-python-rodeo.html) which I also used as a reference for the following analysis. \n",
    "\n",
    "Since we already have verified that both class and sex also influences survival we choose to add these variables as well to our regression model. In order to add these two non-continuous variables we need to create some additional dummy variables to represent the different values for class and age as simple True(1) or False(0) variables. This is simple to do using pandas .get_dummies() method."
   ]
  },
  {
   "cell_type": "code",
   "execution_count": null,
   "metadata": {},
   "outputs": [],
   "source": [
    "# Add dummy variables for class and sex.\n",
    "passenger_dummies = passengers.join(\n",
    "    pd.get_dummies(passengers['Class'], prefix='Class'))\n",
    "passenger_dummies = passenger_dummies.join(\n",
    "    pd.get_dummies(passengers['Sex']))\n",
    "\n",
    "# We drop the Class and Sex columns from the table since they aren't needed.\n",
    "passenger_dummies.drop('Class', axis=1, inplace=True)\n",
    "passenger_dummies.drop('Sex', axis=1, inplace=True)\n",
    "\n",
    "# To create a baseline, our typical passenger, we drop the class 3 and male column.\n",
    "passenger_dummies.drop('Class_3', axis=1, inplace=True)\n",
    "passenger_dummies.drop('male', axis=1, inplace=True)\n",
    "\n",
    "passenger_dummies.head()"
   ]
  },
  {
   "cell_type": "markdown",
   "metadata": {},
   "source": [
    "Next step is to feed our data into the logistic regression model from the statsmodel package and fit it to the inputted data."
   ]
  },
  {
   "cell_type": "code",
   "execution_count": null,
   "metadata": {},
   "outputs": [],
   "source": [
    "logit = sm.Logit(passenger_dummies['Survived'], \n",
    "                 passenger_dummies[passenger_dummies.columns[1:]])\n",
    "\n",
    "# Fit the model\n",
    "result = logit.fit()\n",
    "\n",
    "result.summary()"
   ]
  },
  {
   "cell_type": "markdown",
   "metadata": {},
   "source": [
    "Looking at the coefficient for Age, we can see that there is a negative relation between passenger age and probability of survival. On the other hand Class_1, Class_2, and female have positive coefficients meaning that there is a positive correlation between both passenger class and sex, and the probability for survival. This confirms our chi^2 test results and initial hypothesis that more women and higher class passengers had a higher probability for survival. \n",
    "\n",
    "It is also important to note that the confidence intervals for all coefficients are strictly negative or strictly positive meaning there is a significant probability that each of the coefficients have influence over a passengers chance of survival.\n",
    "\n",
    "As a last trick we plot all the different possibilities for survival based on age for each combination of our categorical variables so that we can visualize what passengers had the highest and/or lowest possiblity of survival for the shipwreck. "
   ]
  },
  {
   "cell_type": "code",
   "execution_count": null,
   "metadata": {},
   "outputs": [],
   "source": [
    "# Last step, visualizing the probability for all possible data points\n",
    "ages = np.linspace(0, 80, 81, dtype=int)\n",
    "\n",
    "# Define cartesian function\n",
    "def cartesian(arrays, out=None):\n",
    "    arrays = [np.asarray(x) for x in arrays]\n",
    "    dtype = arrays[0].dtype\n",
    "    \n",
    "    n = np.prod([x.size for x in arrays])\n",
    "    if out is None:\n",
    "        out = np.zeros([n, len(arrays)], dtype=dtype)\n",
    "        \n",
    "    m = n / arrays[0].size\n",
    "    out[:,0] = np.repeat(arrays[0], m)\n",
    "    if arrays[1:]:\n",
    "        cartesian(arrays[1:], out=out[0:m,1:])\n",
    "        for j in xrange(1, arrays[0].size):\n",
    "            out[j*m:(j+1)*m,1:] = out[0:m,1:]\n",
    "    return out\n",
    "\n",
    "# Enumerate all possible combinations of dummy variables (0=male, 1=female)\n",
    "combinations = pd.DataFrame(cartesian([ages, [1, 2, 3], [0, 1]]))\n",
    "\n",
    "# Recreate dummies\n",
    "combinations.columns = ['age', 'class', 'female']\n",
    "\n",
    "dummy_classes = pd.get_dummies(combinations['class'])\n",
    "dummy_classes.columns = ['class_1', 'class_2', 'class_3']\n",
    "\n",
    "dummy_sexes = pd.get_dummies(combinations['female'])\n",
    "dummy_sexes.columns = ['male', 'female']\n",
    "\n",
    "# Keep what we need for predictions and join with combinations\n",
    "combinations = pd.DataFrame(combinations['age']).join(dummy_classes.ix[:, :'class_2'])\n",
    "combinations = combinations.join(dummy_sexes.ix[:, 'female':])\n",
    "\n",
    "combinations['survival_prediction'] = result.predict(combinations)\n",
    "\n",
    "# Predicted survival probabilities for a average age passenger.\n",
    "combinations[180:186]"
   ]
  },
  {
   "cell_type": "code",
   "execution_count": null,
   "metadata": {},
   "outputs": [],
   "source": [
    "#Pivoting table for plotting.\n",
    "pivot = pd.pivot_table(combinations, \n",
    "                       values=['survival_prediction'],\n",
    "                       index=['age'],\n",
    "                       columns=['female', 'class_1', 'class_2'])\n",
    "\n",
    "# And plot the resulting graph.\n",
    "fig, ax = plt.subplots()\n",
    "pivot.plot(title='5. Probability of Survival by Age',\n",
    "           ax=ax)\n",
    "ax.set(xlabel='Age', ylabel='Probability')\n",
    " \n",
    "# Giving the legend some readable labels.\n",
    "lines, labels = ax.get_legend_handles_labels() \n",
    "ax.legend(lines, ['3rd class male',\n",
    "                  '2nd class male',\n",
    "                  '1st class male',\n",
    "                  '3rd class female',\n",
    "                  '2nd class female',\n",
    "                  '1st class female',]);"
   ]
  },
  {
   "cell_type": "markdown",
   "metadata": {},
   "source": [
    "## Conclusion\n",
    "\n",
    "From the last plot we can see that our analysis shows a relation between higher age and a lower chance of surviving the shipwreck for all for all classes and sexes. Further the different combinations of passenger sex and class can be ranked the following way, from highest probability of survival to lowest compared to other passengers of the same age. (Color from above plot in brackets)\n",
    "\n",
    "1. First class women (Turquoise)\n",
    "2. Second class women (Yellow)\n",
    "3. First class men (Red)\n",
    "4. Third class women (Purple)\n",
    "5. Second class men (Green)\n",
    "6. Third class men (Blue)\n",
    "\n",
    "Now I believe we can answer our initial questions. Did age, class (using passenger class as a proxy here), and/or sex influence the probability of survival? Based on our findings we can with statistical certainty say, yes. \n",
    "\n",
    "We can see from the above ranked list, or plot, that women in general had a higher probability than men of surviving the shipwreck and that upper class passengers were favored over other passengers of the same gender. Sex did almost always have a priority over class with the exception being first class male passengers vs third class women.\n",
    "\n",
    "At least personally I would like to draw the conclusion that the majority of passengers, second and third class men, did behave like gentlemen even until the end on the sinking ship."
   ]
  },
  {
   "cell_type": "markdown",
   "metadata": {},
   "source": [
    "## Limitations and further studies\n",
    "\n",
    "Even though it might look and sound as if we have a pretty clear picture of what factors affected the probability of survival the night of the Titanic shipwreck it is important to remember that with the data and methods used, we are only able to prove that there are a correlation between the variables examined. We would need more data and a controlled environment to be able to draw any conclusions regarding the causality between the relationships we observed.\n",
    "\n",
    "We also made a lot of assumptions regarding our data such as using passenger class as a proxy for social class (reality might be much more nuanced), and also simply throwing away rows and columns with missing values which was fine for this level of analysis. However, to proceed any further it would be necessary to make use of these now unused data points by filling in the holes rather than throwing them away. \n",
    "\n",
    "Other than just imputations there are also some data hidden in columns that could be used for further analysis after some more reworking of the original dataset. For example, we could calculate the size of the group the passenger were travelling with using the 'SibSp' and 'Parch' columns to see if this had any influence on their survival or not. Using some simple text processing we could also break out any titles present in the 'Name' columns to further describe the social status of the passengers.\n",
    "\n",
    "I believe there are even more things that could be done but to keep the length down and also to keep us inside the confines of my current abilities this have to be left for the future."
   ]
  }
 ],
 "metadata": {
  "kernelspec": {
   "display_name": "Python 2",
   "language": "python",
   "name": "python2"
  },
  "language_info": {
   "codemirror_mode": {
    "name": "ipython",
    "version": 2
   },
   "file_extension": ".py",
   "mimetype": "text/x-python",
   "name": "python",
   "nbconvert_exporter": "python",
   "pygments_lexer": "ipython2",
   "version": "2.7.13"
  }
 },
 "nbformat": 4,
 "nbformat_minor": 1
}
